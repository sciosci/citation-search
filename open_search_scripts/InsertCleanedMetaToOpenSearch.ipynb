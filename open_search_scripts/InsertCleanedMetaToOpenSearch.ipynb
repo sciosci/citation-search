{
 "cells": [
  {
   "cell_type": "markdown",
   "id": "908ba56c-2157-44ef-b862-4cc7f44ea92e",
   "metadata": {
    "pycharm": {
     "name": "#%% md\n"
    }
   },
   "source": [
    "Flow:\n",
    "1) Get 5000 entries from database\n",
    "2) Clean dataset considering only English entries\n",
    "3) Insert into a new index 1 in open search\n",
    "\n",
    "In OpenSearch Dashboard:\n",
    "1) Load model on a node\n",
    "2) Create a new index 2 to work with the newly loaded model\n",
    "3) Reindex the existing index 1 to point to index 2\n",
    "4) Run the predictions\n"
   ]
  },
  {
   "cell_type": "code",
   "execution_count": 6,
   "id": "9d5caeaf-3418-4c27-bab6-8816541834ac",
   "metadata": {
    "scrolled": true,
    "pycharm": {
     "name": "#%%\n"
    }
   },
   "outputs": [
    {
     "name": "stdout",
     "output_type": "stream",
     "text": [
      "Successfully fetched 5000 rows in 0.6091839189175516 seconds\n",
      "Successfully filtered 4838 in 28.0349865029566 seconds\n"
     ]
    }
   ],
   "source": [
    "import psycopg2\n",
    "import time\n",
    "from psycopg2.extras import RealDictCursor\n",
    "from langdetect import DetectorFactory,detect\n",
    "\n",
    "conn_params = {\n",
    "    \"host\": \"127.0.0.1\",\n",
    "    \"port\": \"5432\",\n",
    "    \"database\": \"citation_aggregated_model\",\n",
    "    \"user\": \"admin\",\n",
    "    \"password\": \"admin\"\n",
    "}\n",
    "query = '''SELECT cat.corpus_id,\n",
    "               cat.abstract,\n",
    "               cpm.title,\n",
    "               cpm.venue,\n",
    "               cpm.year,\n",
    "               string_agg(car.name, ', ') as authors_name\n",
    "        FROM citation_abstract cat\n",
    "                 JOIN citation_papers_meta cpm on cat.corpus_id = cpm.corpus_id\n",
    "                 JOIN citation_author car on cat.corpus_id = car.corpus_id\n",
    "        group by\n",
    "            cat.corpus_id,\n",
    "            cpm.title,\n",
    "            cpm.venue,\n",
    "            cpm.year\n",
    "        LIMIT 5000;\n",
    "'''\n",
    "\n",
    "start = time.perf_counter()\n",
    "with psycopg2.connect(**conn_params) as conn:\n",
    "    with conn.cursor(cursor_factory=RealDictCursor) as cursor:\n",
    "        cursor.execute(query)\n",
    "        rows = cursor.fetchall()\n",
    "end = time.perf_counter()\n",
    "print(f\"Successfully fetched {len(rows)} rows in {end-start} seconds\")\n",
    "\n",
    "start = time.perf_counter()\n",
    "DetectorFactory.seed = 0\n",
    "cleaned_rows = []\n",
    "for row in rows:\n",
    "    title = row.get('title')\n",
    "    if detect(title) == 'en':\n",
    "        cleaned_rows.append(dict(row))\n",
    "end = time.perf_counter()\n",
    "print(f\"Successfully filtered {len(cleaned_rows)} in {end-start} seconds\")"
   ]
  },
  {
   "cell_type": "code",
   "execution_count": 7,
   "id": "2c44d21c-dd9b-4ab2-aee5-be9083cc3e80",
   "metadata": {
    "pycharm": {
     "name": "#%%\n"
    }
   },
   "outputs": [
    {
     "data": {
      "text/plain": [
       "{'corpus_id': 5,\n",
       " 'abstract': 'Purpose: Corneal lymphatic vessels are clinically invisible because of their thin walls and clear lymph fluid. There is no easy and established method for in vivo imaging of corneal lymphatic vessels so far. In this study, we present a novel approach to visualize corneal lymphatic vessels in vivo by injecting intrastromal fluorescein sodium. Methods: Six- to eight-week-old female BALB/c mice were used in the mouse model of suture-induced corneal neovascularization. Two weeks after the suture placement, fluorescein sodium was injected intrastromally. The fluorescein, taken up by the presumed lymphatic vessels, was then tracked using a clinically used Spectralis HRA + OCT device. Immunohistochemistry staining with specific lymphatic marker LYVE-1 and pan-endothelial marker CD31 was used to confirm the indirect lymphangiography findings. Results: By injecting fluorescein intrastromally, both corneal blood and lymphatic vessels were detected. While the lymphatic vessels were visible as bright vessel-like structures using HRA, the blood vessels appeared as dark networks. Fluorescein-labeled lymphatic vessels were colocalized with LYVE-1 in immunohistochemically stained sections of the same specimen. Conclusions: Corneal lymphatic vessels can be easily imaged in vivo in the murine model using intrastromal fluorescein injection.',\n",
       " 'title': 'Novel Method to Detect Corneal Lymphatic Vessels In Vivo by Intrastromal Injection of Fluorescein',\n",
       " 'venue': 'Cornea',\n",
       " 'year': 2017,\n",
       " 'authors_name': 'C. Cursiefen, F. Bock, J. Horstmann, V. H. Le, Yanhong Hou'}"
      ]
     },
     "execution_count": 7,
     "metadata": {},
     "output_type": "execute_result"
    }
   ],
   "source": [
    "cleaned_rows[0]"
   ]
  },
  {
   "cell_type": "markdown",
   "id": "89b144d6-f218-4f3f-9947-042b8eb4b992",
   "metadata": {
    "pycharm": {
     "name": "#%% md\n"
    }
   },
   "source": [
    "## Ingestion in Open Search"
   ]
  },
  {
   "cell_type": "markdown",
   "id": "5a8f1be6-b464-42cc-b1f8-0e9501b2d690",
   "metadata": {
    "pycharm": {
     "name": "#%% md\n"
    }
   },
   "source": [
    "```\n",
    "PUT /papers_meta_index\n",
    "{\n",
    "  \"settings\": {\n",
    "    \"number_of_shards\": 1,\n",
    "    \"number_of_replicas\": 0\n",
    "  },\n",
    "  \"mappings\": {\n",
    "    \"properties\": {\n",
    "      \"corpus_id\": {\n",
    "        \"type\": \"text\"\n",
    "      },\n",
    "      \"abstract\": {\n",
    "        \"type\": \"text\"\n",
    "      },\n",
    "        \"title\": {\n",
    "        \"type\": \"text\"\n",
    "      },\n",
    "        \"venue\": {\n",
    "        \"type\": \"text\"\n",
    "      },\n",
    "        \"year\": {\n",
    "        \"type\": \"text\"\n",
    "      },\n",
    "        \"authors_name\": {\n",
    "        \"type\": \"text\"\n",
    "      }\n",
    "    }\n",
    "  }\n",
    "}\n",
    "\n",
    "GET /papers_meta_index/_count\n",
    "```"
   ]
  },
  {
   "cell_type": "code",
   "execution_count": 19,
   "id": "01b3f22f-63f2-44ed-8d1d-05cd061c42f3",
   "metadata": {
    "pycharm": {
     "name": "#%%\n"
    }
   },
   "outputs": [],
   "source": [
    "import json\n",
    "import requests\n",
    "from requests.auth import HTTPBasicAuth\n",
    "def bulk_upload_records(records:list):\n",
    "    print(f\"Start inserting {len(records)} records in opensearch\")\n",
    "    os_url = 'http://localhost:9200/'\n",
    "    index_name = 'papers_meta_index'\n",
    "\n",
    "    # Define the Elasticsearch bulk insert payload\n",
    "    bulk_data = ''\n",
    "    for doc in records:\n",
    "        bulk_data += f'{{\"index\":{{\"_index\":\"{index_name}\"}}}}\\n'\n",
    "        bulk_data += f'{json.dumps(doc)}\\n'\n",
    "\n",
    "    headers = {'Content-Type': 'application/json'}\n",
    "\n",
    "    # Insert the data using the OpenSearch bulk API\n",
    "    response = requests.post(f'{os_url}_bulk', auth=HTTPBasicAuth('admin', 'admin'),\n",
    "                             headers=headers, data=bulk_data)\n",
    "\n",
    "    # Check the response status code\n",
    "    if response.status_code != 200:\n",
    "        # print(f'Successfully inserted {len(papers)} documents into \"{index_name}\"')\n",
    "        # else:\n",
    "        print(f'Error inserting data: {response.content}')\n",
    "    print(f\"Completed inserting {len(records)} records in opensearch\")"
   ]
  },
  {
   "cell_type": "code",
   "execution_count": 25,
   "id": "1c90fe44-7eb2-401a-8bea-76ef9c563a7b",
   "metadata": {
    "editable": true,
    "slideshow": {
     "slide_type": ""
    },
    "tags": [],
    "pycharm": {
     "name": "#%%\n"
    }
   },
   "outputs": [
    {
     "name": "stdout",
     "output_type": "stream",
     "text": [
      "Start inserting 500 records in opensearch\n",
      "Start inserting 500 records in opensearch\n",
      "Start inserting 500 records in opensearch\n",
      "Start inserting 500 records in opensearch\n",
      "Start inserting 500 records in opensearch\n",
      "Start inserting 500 records in opensearch\n",
      "Start inserting 500 records in opensearch\n",
      "Start inserting 500 records in opensearch\n",
      "Start inserting 500 records in opensearchStart inserting 338 records in opensearch\n",
      "\n",
      "Completed inserting 338 records in opensearch\n",
      "Completed inserting 500 records in opensearch\n",
      "Completed inserting 500 records in opensearchCompleted inserting 500 records in opensearch\n",
      "\n",
      "Completed inserting 500 records in opensearch\n",
      "Completed inserting 500 records in opensearchCompleted inserting 500 records in opensearch\n",
      "Completed inserting 500 records in opensearch\n",
      "\n",
      "Completed inserting 500 records in opensearch\n",
      "Completed inserting 500 records in opensearch\n"
     ]
    }
   ],
   "source": [
    "import multiprocessing as mp\n",
    "chunk_size = 500\n",
    "chunked_cleaned_list=[cleaned_rows[i:i + chunk_size] for i in range(0, len(cleaned_rows), chunk_size)]\n",
    "\n",
    "with mp.Pool() as pool:\n",
    "  results = pool.map(bulk_upload_records, chunked_cleaned_list)"
   ]
  }
 ],
 "metadata": {
  "kernelspec": {
   "display_name": "Python 3 (ipykernel)",
   "language": "python",
   "name": "python3"
  },
  "language_info": {
   "codemirror_mode": {
    "name": "ipython",
    "version": 3
   },
   "file_extension": ".py",
   "mimetype": "text/x-python",
   "name": "python",
   "nbconvert_exporter": "python",
   "pygments_lexer": "ipython3",
   "version": "3.10.6"
  }
 },
 "nbformat": 4,
 "nbformat_minor": 5
}