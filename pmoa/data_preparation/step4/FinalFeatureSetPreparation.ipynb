{
 "cells": [
  {
   "cell_type": "code",
   "execution_count": 1,
   "id": "32699525-6ebf-4f8a-9689-f225eeeb7d82",
   "metadata": {
    "pycharm": {
     "name": "#%%\n"
    }
   },
   "outputs": [
    {
     "name": "stderr",
     "output_type": "stream",
     "text": [
      "/Users/shubhamsati/PycharmProjects/CitationSearch/venv/lib/python3.9/site-packages/urllib3/__init__.py:34: NotOpenSSLWarning: urllib3 v2 only supports OpenSSL 1.1.1+, currently the 'ssl' module is compiled with 'LibreSSL 2.8.3'. See: https://github.com/urllib3/urllib3/issues/3020\n",
      "  warnings.warn(\n"
     ]
    },
    {
     "name": "stdout",
     "output_type": "stream",
     "text": [
      "0.4045591652393341\n"
     ]
    }
   ],
   "source": [
    "# Sample code to test sentence transformer for cosine similiarity\n",
    "from sentence_transformers import SentenceTransformer, util\n",
    "\n",
    "sentences = [\"This is an example sentence\", \"Each sentence is converted\"]\n",
    "\n",
    "model = SentenceTransformer('sentence-transformers/all-MiniLM-L6-v2')\n",
    "embeddings = model.encode(sentences)\n",
    "cosine_similarity = util.cos_sim(embeddings[0], embeddings[1])\n",
    "print(cosine_similarity.item())"
   ]
  },
  {
   "cell_type": "code",
   "execution_count": 2,
   "id": "048206e9-5fbf-442c-944b-d7d16cf9b9ea",
   "metadata": {
    "pycharm": {
     "name": "#%%\n"
    }
   },
   "outputs": [],
   "source": [
    "# Function to calculate cosine similarity between\n",
    "from sentence_transformers import SentenceTransformer, util\n",
    "def cosine_similarity(feature1, feature2):\n",
    "    model = SentenceTransformer('sentence-transformers/all-MiniLM-L6-v2')\n",
    "    feature1_embedding = model.encode(feature1)\n",
    "    feature2_embedding = model.encode(feature2)\n",
    "    cosine_similarity = util.cos_sim(feature1_embedding, feature2_embedding)\n",
    "    return cosine_similarity.item()"
   ]
  },
  {
   "cell_type": "code",
   "execution_count": 3,
   "id": "d327354c-05fb-44c4-9d57-1cdec4fd57ac",
   "metadata": {
    "pycharm": {
     "name": "#%%\n"
    }
   },
   "outputs": [
    {
     "data": {
      "text/plain": [
       "\"\\ncosine_pairs = [\\n    ('q_title','c_title'),\\n    # ('q_title','c_abstract'),\\n    # ('q_abstract','c_title'),\\n    # ('q_abstract','c_abstract'),\\n    ('q_sentence','c_title'),\\n    # ('q_sentence','c_abstact')\\n]\\nyear_difference = q_year-c_year\\nlen_c_title = len(c_title)\\nlen_c_abstract = len(c_abstract)\\nlog_c_in_citations = np.log2(c_in_citations)\\n\""
      ]
     },
     "execution_count": 3,
     "metadata": {},
     "output_type": "execute_result"
    }
   ],
   "source": [
    "# Features list\n",
    "'''\n",
    "cosine_pairs = [\n",
    "    ('q_title','c_title'),\n",
    "    # ('q_title','c_abstract'),\n",
    "    # ('q_abstract','c_title'),\n",
    "    # ('q_abstract','c_abstract'),\n",
    "    ('q_sentence','c_title'),\n",
    "    # ('q_sentence','c_abstact')\n",
    "]\n",
    "year_difference = q_year-c_year\n",
    "len_c_title = len(c_title)\n",
    "len_c_abstract = len(c_abstract)\n",
    "log_c_in_citations = np.log2(c_in_citations)\n",
    "'''"
   ]
  },
  {
   "cell_type": "code",
   "execution_count": 4,
   "id": "db146d3c",
   "metadata": {
    "collapsed": false,
    "jupyter": {
     "outputs_hidden": false
    },
    "pycharm": {
     "name": "#%%\n"
    }
   },
   "outputs": [
    {
     "name": "stdout",
     "output_type": "stream",
     "text": [
      "Time taken to fetch records with metadata: 0.905188625000001 seconds\n"
     ]
    }
   ],
   "source": [
    "from sqlalchemy import create_engine, MetaData, Table, Column, String, Integer, insert\n",
    "import time\n",
    "import psycopg2\n",
    "from psycopg2.extras import DictCursor\n",
    "\n",
    "conn_params = {\n",
    "    \"host\": \"10.224.68.29\",\n",
    "    \"port\": \"5432\",\n",
    "    \"database\": \"pubmed\",\n",
    "    \"user\": \"admin\",\n",
    "    \"password\": \"admin\"\n",
    "}\n",
    "\n",
    "engine = create_engine('postgresql://', connect_args=conn_params)\n",
    "\n",
    "query = '''\n",
    "        SELECT rs.pmid as pmid, rs.sentence as q_sentence, rs.cited_id as cited_id, rs.relevance_score as relevance_score,\n",
    "               m.title as q_title,cited.title as c_title,m.publication_year as q_year,cited.publication_year as c_year,\n",
    "               cited.cited_by_count as c_in_citations\n",
    "        FROM relevance_store_new as rs\n",
    "        LEFT JOIN metadata as m ON m.pmid = rs.pmid\n",
    "        LEFT JOIN metadata as cited ON cited.pmid = rs.cited_id\n",
    "        WHERE rs.pmid IN (select DISTINCT pmid from metadata)\n",
    "          AND rs.cited_id IN (select DISTINCT pmid from metadata);\n",
    "        '''\n",
    "start = time.perf_counter()\n",
    "with psycopg2.connect(**conn_params) as conn:\n",
    "    with conn.cursor(cursor_factory=DictCursor) as cursor:\n",
    "        cursor.execute(query)\n",
    "        records = cursor.fetchall()\n",
    "end = time.perf_counter()\n",
    "print(f\"Time taken to fetch records with metadata: {end-start} seconds\")"
   ]
  },
  {
   "cell_type": "code",
   "execution_count": 5,
   "id": "df8dbb24",
   "metadata": {
    "collapsed": false,
    "jupyter": {
     "outputs_hidden": false
    },
    "pycharm": {
     "name": "#%%\n"
    }
   },
   "outputs": [
    {
     "name": "stdout",
     "output_type": "stream",
     "text": [
      "Total groups: 25\n"
     ]
    }
   ],
   "source": [
    "from collections import defaultdict\n",
    "grouped_records = defaultdict(list)\n",
    "for record in records:\n",
    "    grouped_records[record['pmid']].append(record)\n",
    "print(f\"Total groups: {len(grouped_records)}\")"
   ]
  },
  {
   "cell_type": "code",
   "execution_count": 6,
   "id": "3aa6cec1",
   "metadata": {
    "collapsed": false,
    "jupyter": {
     "outputs_hidden": false
    },
    "pycharm": {
     "name": "#%%\n"
    }
   },
   "outputs": [
    {
     "name": "stderr",
     "output_type": "stream",
     "text": [
      "/var/folders/3m/860dncss64lbz0yf839zmg640000gn/T/ipykernel_2705/2177996526.py:25: RuntimeWarning: divide by zero encountered in log2\n",
      "  embedding_arr.append(np.log2(record.get('c_in_citations')))\n"
     ]
    },
    {
     "name": "stdout",
     "output_type": "stream",
     "text": [
      "Time taken to create embeddings for 25 groups: 296.590352292 seconds\n"
     ]
    }
   ],
   "source": [
    "import numpy as np\n",
    "embedded_groups = defaultdict(list)\n",
    "cosine_pairs = [\n",
    "    ('q_title','c_title'),\n",
    "    ('q_sentence','c_title')\n",
    "]\n",
    "'''\n",
    "year_difference = q_year-c_year\n",
    "len_c_title = len(c_title)\n",
    "len_c_abstract = len(c_abstract)\n",
    "log_c_in_citations = np.log2(c_in_citations)\n",
    "'''\n",
    "start = time.perf_counter()\n",
    "for k,v in grouped_records.items():\n",
    "    for record in v:\n",
    "        embedding_arr = []\n",
    "        for a,b in cosine_pairs:\n",
    "            if not record.get(a):\n",
    "                record[a]=''\n",
    "            if not record.get(b):\n",
    "                record[b]=''\n",
    "            embedding_arr.append(cosine_similarity(record.get(a,''),record.get(b,'')))\n",
    "        embedding_arr.append(record.get('q_year')-record.get('c_year'))\n",
    "        embedding_arr.append(len(record.get('c_title','')))\n",
    "        embedding_arr.append(np.log2(record.get('c_in_citations')))\n",
    "        embedding_arr.append(record.get('relevance_score'))\n",
    "        embedded_groups[k].append(embedding_arr)\n",
    "end = time.perf_counter()\n",
    "print(f\"Time taken to create embeddings for {len(embedded_groups)} groups: {end-start} seconds\")"
   ]
  },
  {
   "cell_type": "code",
   "execution_count": 7,
   "id": "0ed45af4",
   "metadata": {
    "collapsed": false,
    "jupyter": {
     "outputs_hidden": false
    },
    "pycharm": {
     "name": "#%%\n"
    }
   },
   "outputs": [
    {
     "name": "stdout",
     "output_type": "stream",
     "text": [
      "18811945\n",
      "21457543\n",
      "23316194\n",
      "23497105\n",
      "24131735\n",
      "24636523\n",
      "24989242\n",
      "19930637\n",
      "20811592\n",
      "21762506\n",
      "21904682\n",
      "22474440\n",
      "22625433\n",
      "24086524\n",
      "19664212\n",
      "21044324\n",
      "21608150\n",
      "22110950\n",
      "22747670\n",
      "22778732\n",
      "23229565\n",
      "24966823\n",
      "22719179\n",
      "23797686\n",
      "22909256\n"
     ]
    }
   ],
   "source": [
    "for k,v in embedded_groups.items():\n",
    "    print(k)"
   ]
  },
  {
   "cell_type": "code",
   "execution_count": 8,
   "id": "b8565d87",
   "metadata": {
    "collapsed": false,
    "jupyter": {
     "outputs_hidden": false
    },
    "pycharm": {
     "name": "#%%\n"
    }
   },
   "outputs": [
    {
     "data": {
      "text/plain": [
       "[[0.5159871578216553, 0.1362968385219574, 10, 111, 8.312882955284355, 1],\n",
       " [-0.009927734732627869, -0.017229247838258743, 6, 0, 6.599912842187128, 3],\n",
       " [0.4175010323524475, 0.40701478719711304, 4, 81, 8.108524456778168, 3],\n",
       " [0.4175010323524475, 0.24443674087524414, 4, 81, 8.108524456778168, 1],\n",
       " [-0.009927734732627869, -0.0723314881324768, 6, 0, 6.599912842187128, 1]]"
      ]
     },
     "execution_count": 8,
     "metadata": {},
     "output_type": "execute_result"
    }
   ],
   "source": [
    "embedded_groups['18811945'][0:5]"
   ]
  },
  {
   "cell_type": "code",
   "execution_count": 9,
   "id": "210c4928",
   "metadata": {
    "collapsed": false,
    "jupyter": {
     "outputs_hidden": false
    },
    "pycharm": {
     "name": "#%%\n"
    }
   },
   "outputs": [],
   "source": [
    "# Divide into test and train groups\n",
    "test_size = 0.2\n",
    "test_groups_size = int(len(embedded_groups)*test_size)\n",
    "train_groups_size = len(embedded_groups)-test_groups_size\n",
    "test_groups = list(embedded_groups.keys())[:test_groups_size]\n",
    "train_groups = list(embedded_groups.keys())[test_groups_size:]"
   ]
  },
  {
   "cell_type": "code",
   "execution_count": 10,
   "id": "9a71a7f4",
   "metadata": {
    "collapsed": false,
    "jupyter": {
     "outputs_hidden": false
    },
    "pycharm": {
     "name": "#%%\n"
    }
   },
   "outputs": [
    {
     "data": {
      "text/plain": [
       "dict_items([(1, 461), (3, 19), (2, 71), (0, 5)])"
      ]
     },
     "execution_count": 10,
     "metadata": {},
     "output_type": "execute_result"
    }
   ],
   "source": [
    "from collections import Counter\n",
    "test_data =[]\n",
    "test_queries = []\n",
    "for test_group in test_groups:\n",
    "    for group in embedded_groups[test_group]:\n",
    "        test_data.append(group)\n",
    "        test_queries.append(test_group)\n",
    "X_test = [data[:-1] for data in test_data]\n",
    "y_test = [data[-1] for data in test_data]\n",
    "Counter(y_test).items()"
   ]
  },
  {
   "cell_type": "code",
   "execution_count": 11,
   "id": "e5f79dcc",
   "metadata": {
    "collapsed": false,
    "jupyter": {
     "outputs_hidden": false
    },
    "pycharm": {
     "name": "#%%\n"
    }
   },
   "outputs": [
    {
     "data": {
      "text/plain": [
       "dict_items([(0, 20), (2, 36), (3, 9), (1, 126)])"
      ]
     },
     "execution_count": 11,
     "metadata": {},
     "output_type": "execute_result"
    }
   ],
   "source": [
    "train_data =[]\n",
    "train_queries = []\n",
    "for train_group in train_groups:\n",
    "    for group in embedded_groups[train_group]:\n",
    "        train_data.append(group)\n",
    "        train_queries.append(train_group)\n",
    "X_train = [data[:-1] for data in train_data]\n",
    "y_train = [data[-1] for data in train_data]\n",
    "Counter(y_train).items()"
   ]
  },
  {
   "cell_type": "code",
   "execution_count": 12,
   "id": "4842d38e",
   "metadata": {
    "collapsed": false,
    "jupyter": {
     "outputs_hidden": false
    },
    "pycharm": {
     "name": "#%%\n"
    }
   },
   "outputs": [],
   "source": [
    "max_relevance = np.max(y_train)\n",
    "y_train /= max_relevance\n",
    "y_test /= max_relevance"
   ]
  },
  {
   "cell_type": "code",
   "execution_count": 13,
   "id": "c1b8da5e",
   "metadata": {
    "collapsed": false,
    "jupyter": {
     "outputs_hidden": false
    },
    "pycharm": {
     "name": "#%%\n"
    }
   },
   "outputs": [],
   "source": [
    "from catboost import CatBoostRanker, Pool, MetricVisualizer\n",
    "train = Pool(\n",
    "    data=X_train,\n",
    "    label=y_train,\n",
    "    group_id=train_queries\n",
    ")\n",
    "\n",
    "test = Pool(\n",
    "    data=X_test,\n",
    "    label=y_test,\n",
    "    group_id=test_queries\n",
    ")"
   ]
  },
  {
   "cell_type": "code",
   "execution_count": 14,
   "id": "18e992dd",
   "metadata": {
    "collapsed": false,
    "jupyter": {
     "outputs_hidden": false
    },
    "pycharm": {
     "name": "#%%\n"
    }
   },
   "outputs": [],
   "source": [
    "default_parameters = {\n",
    "    'iterations': 2000,\n",
    "    'custom_metric': ['NDCG', 'PFound', 'AverageGain:top=10'],\n",
    "    'verbose': False,\n",
    "    'random_seed': 0,\n",
    "}\n",
    "\n",
    "parameters = {}"
   ]
  },
  {
   "cell_type": "code",
   "execution_count": 15,
   "id": "cd6d11fa",
   "metadata": {
    "collapsed": false,
    "jupyter": {
     "outputs_hidden": false
    },
    "pycharm": {
     "name": "#%%\n"
    }
   },
   "outputs": [],
   "source": [
    "from copy import deepcopy\n",
    "def fit_model(loss_function, additional_params=None, train_pool=train, test_pool=test):\n",
    "    parameters = deepcopy(default_parameters)\n",
    "    parameters['loss_function'] = loss_function\n",
    "    parameters['train_dir'] = loss_function\n",
    "\n",
    "    if additional_params is not None:\n",
    "        parameters.update(additional_params)\n",
    "\n",
    "    model = CatBoostRanker(**parameters)\n",
    "    model.fit(train_pool, eval_set=test_pool, plot=True)\n",
    "\n",
    "    return model"
   ]
  },
  {
   "cell_type": "code",
   "execution_count": 16,
   "id": "a7fd41cb",
   "metadata": {
    "collapsed": false,
    "jupyter": {
     "outputs_hidden": false
    },
    "pycharm": {
     "name": "#%%\n"
    }
   },
   "outputs": [
    {
     "name": "stderr",
     "output_type": "stream",
     "text": [
      "/Users/shubhamsati/PycharmProjects/CitationSearch/venv/lib/python3.9/site-packages/catboost/core.py:6219: RuntimeWarning: Regression loss ('RMSE') ignores an important ranking parameter 'group_id'\n",
      "  warnings.warn(\"Regression loss ('{}') ignores an important ranking parameter 'group_id'\".format(loss_function), RuntimeWarning)\n"
     ]
    },
    {
     "data": {
      "application/vnd.jupyter.widget-view+json": {
       "model_id": "075e14ea4b6d4a53b98419bbddcdb743",
       "version_major": 2,
       "version_minor": 0
      },
      "text/plain": [
       "MetricVisualizer(layout=Layout(align_self='stretch', height='500px'))"
      ]
     },
     "metadata": {},
     "output_type": "display_data"
    }
   ],
   "source": [
    "model = fit_model('RMSE', {'custom_metric': ['PrecisionAt:top=10', 'RecallAt:top=10', 'MAP:top=10']})"
   ]
  }
 ],
 "metadata": {
  "kernelspec": {
   "display_name": "Python 3 (ipykernel)",
   "language": "python",
   "name": "python3"
  },
  "language_info": {
   "codemirror_mode": {
    "name": "ipython",
    "version": 3
   },
   "file_extension": ".py",
   "mimetype": "text/x-python",
   "name": "python",
   "nbconvert_exporter": "python",
   "pygments_lexer": "ipython3",
   "version": "3.9.6"
  }
 },
 "nbformat": 4,
 "nbformat_minor": 5
}