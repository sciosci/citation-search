{
 "cells": [
  {
   "cell_type": "code",
   "execution_count": 8,
   "id": "32699525-6ebf-4f8a-9689-f225eeeb7d82",
   "metadata": {},
   "outputs": [
    {
     "name": "stdout",
     "output_type": "stream",
     "text": [
      "0.4045591652393341\n"
     ]
    }
   ],
   "source": [
    "# Sample code to test sentence transformer for cosine similiarity\n",
    "from sentence_transformers import SentenceTransformer, util\n",
    "sentences = [\"This is an example sentence\", \"Each sentence is converted\"]\n",
    "\n",
    "model = SentenceTransformer('sentence-transformers/all-MiniLM-L6-v2')\n",
    "embeddings = model.encode(sentences)\n",
    "cosine_similarity = util.cos_sim(embeddings[0], embeddings[1])\n",
    "print(cosine_similarity.item())"
   ]
  },
  {
   "cell_type": "code",
   "execution_count": null,
   "id": "048206e9-5fbf-442c-944b-d7d16cf9b9ea",
   "metadata": {},
   "outputs": [],
   "source": [
    "# Function to calculate cosine similarity between\n",
    "def cosine_similarity(feature1, feature2):\n",
    "    model = SentenceTransformer('sentence-transformers/all-MiniLM-L6-v2')\n",
    "    feature1_embedding = model.encode(feature1)\n",
    "    feature2_embedding = model.encode(feature2)\n",
    "    cosine_similarity = util.cos_sim(feature1_embedding, feature2_embedding)\n",
    "    return cosine_similarity.item()"
   ]
  },
  {
   "cell_type": "code",
   "execution_count": null,
   "id": "d327354c-05fb-44c4-9d57-1cdec4fd57ac",
   "metadata": {},
   "outputs": [],
   "source": [
    "# Features list\n",
    "'''\n",
    "cosine_pairs = [\n",
    "    ('q_title','c_title'),\n",
    "    # ('q_title','c_abstract'),\n",
    "    # ('q_abstract','c_title'),\n",
    "    # ('q_abstract','c_abstract'),\n",
    "    ('q_sentence','c_title'),\n",
    "    # ('q_sentence','c_abstact')\n",
    "]\n",
    "year_difference = q_year-c_year\n",
    "len_c_title = len(c_title)\n",
    "len_c_abstract = len(c_abstract)\n",
    "log_c_in_citations = np.log2(c_in_citations)\n",
    "'''"
   ]
  },
  {
   "cell_type": "code",
   "execution_count": null,
   "id": "e8e5934d-dbce-4eb2-bd72-1926f3edbc1f",
   "metadata": {},
   "outputs": [],
   "source": []
  }
 ],
 "metadata": {
  "kernelspec": {
   "display_name": "Python 3 (ipykernel)",
   "language": "python",
   "name": "python3"
  },
  "language_info": {
   "codemirror_mode": {
    "name": "ipython",
    "version": 3
   },
   "file_extension": ".py",
   "mimetype": "text/x-python",
   "name": "python",
   "nbconvert_exporter": "python",
   "pygments_lexer": "ipython3",
   "version": "3.9.6"
  }
 },
 "nbformat": 4,
 "nbformat_minor": 5
}
