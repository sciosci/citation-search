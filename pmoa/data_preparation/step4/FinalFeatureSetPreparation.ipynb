{
 "cells": [
  {
   "cell_type": "code",
   "execution_count": 8,
   "id": "32699525-6ebf-4f8a-9689-f225eeeb7d82",
   "metadata": {
    "pycharm": {
     "name": "#%%\n"
    }
   },
   "outputs": [
    {
     "name": "stdout",
     "output_type": "stream",
     "text": [
      "0.4045591652393341\n"
     ]
    }
   ],
   "source": [
    "# Sample code to test sentence transformer for cosine similiarity\n",
    "from sentence_transformers import SentenceTransformer, util\n",
    "\n",
    "sentences = [\"This is an example sentence\", \"Each sentence is converted\"]\n",
    "\n",
    "model = SentenceTransformer('sentence-transformers/all-MiniLM-L6-v2')\n",
    "embeddings = model.encode(sentences)\n",
    "cosine_similarity = util.cos_sim(embeddings[0], embeddings[1])\n",
    "print(cosine_similarity.item())"
   ]
  },
  {
   "cell_type": "code",
   "execution_count": null,
   "id": "048206e9-5fbf-442c-944b-d7d16cf9b9ea",
   "metadata": {
    "pycharm": {
     "name": "#%%\n"
    }
   },
   "outputs": [],
   "source": [
    "# Function to calculate cosine similarity between\n",
    "def cosine_similarity(feature1, feature2):\n",
    "    model = SentenceTransformer('sentence-transformers/all-MiniLM-L6-v2')\n",
    "    feature1_embedding = model.encode(feature1)\n",
    "    feature2_embedding = model.encode(feature2)\n",
    "    cosine_similarity = util.cos_sim(feature1_embedding, feature2_embedding)\n",
    "    return cosine_similarity.item()"
   ]
  },
  {
   "cell_type": "code",
   "execution_count": null,
   "id": "d327354c-05fb-44c4-9d57-1cdec4fd57ac",
   "metadata": {
    "pycharm": {
     "name": "#%%\n"
    }
   },
   "outputs": [],
   "source": [
    "# Features list\n",
    "'''\n",
    "cosine_pairs = [\n",
    "    ('q_title','c_title'),\n",
    "    # ('q_title','c_abstract'),\n",
    "    # ('q_abstract','c_title'),\n",
    "    # ('q_abstract','c_abstract'),\n",
    "    ('q_sentence','c_title'),\n",
    "    # ('q_sentence','c_abstact')\n",
    "]\n",
    "year_difference = q_year-c_year\n",
    "len_c_title = len(c_title)\n",
    "len_c_abstract = len(c_abstract)\n",
    "log_c_in_citations = np.log2(c_in_citations)\n",
    "'''"
   ]
  },
  {
   "cell_type": "code",
   "execution_count": 8,
   "id": "e8e5934d-dbce-4eb2-bd72-1926f3edbc1f",
   "metadata": {
    "pycharm": {
     "name": "#%%\n"
    }
   },
   "outputs": [],
   "source": [
    "from sqlalchemy import create_engine, MetaData, Table, Column, String, Integer, insert\n",
    "import time\n",
    "import psycopg2\n",
    "from psycopg2.extras import DictCursor\n",
    "\n",
    "conn_params = {\n",
    "    \"host\": \"10.224.68.29\",\n",
    "    \"port\": \"5432\",\n",
    "    \"database\": \"pubmed\",\n",
    "    \"user\": \"admin\",\n",
    "    \"password\": \"admin\"\n",
    "}\n",
    "\n",
    "engine = create_engine('postgresql://', connect_args=conn_params)\n",
    "\n",
    "query = '''\n",
    "        SELECT * FROM relevance_store_new as rs\n",
    "        LEFT JOIN metadata as m ON m.pmid = rs.pmid\n",
    "        LEFT JOIN metadata as cited ON cited.pmid = rs.cited_id\n",
    "        WHERE rs.pmid IN (select DISTINCT pmid from metadata) AND rs.cited_id IN (select DISTINCT pmid from metadata);\n",
    "        '''\n",
    "start = time.perf_counter()\n",
    "with psycopg2.connect(**conn_params) as conn:\n",
    "    with conn.cursor(cursor_factory=DictCursor) as cursor:\n",
    "        cursor.execute(query)\n",
    "        records = cursor.fetchall()\n",
    "end = time.perf_counter()"
   ]
  },
  {
   "cell_type": "code",
   "execution_count": 10,
   "id": "b197dcbf",
   "metadata": {
    "collapsed": false,
    "jupyter": {
     "outputs_hidden": false
    },
    "pycharm": {
     "name": "#%%\n"
    }
   },
   "outputs": [
    {
     "name": "stdout",
     "output_type": "stream",
     "text": [
      "{'id': 1662787, 'pmid': '15289607', 'sentence': 'Phospho-Ser82 of vimentin is dephosphorylated much slower than phospho-Ser38 by PP1c .', 'sentid': 3, 'paraid': 3, 'cited_id': '15289607', 'relevance_score': 1, 'title': 'The mouse kinome: Discovery and comparative genomics of all mouse protein kinases', 'publication_year': 2004, 'cited_by_count': 276}\n",
      "{'id': 1662117, 'pmid': '12034772', 'sentence': 'In mouse embryos Stk33 expression is found in the developing heart, brain and spinal cord .', 'sentid': 2, 'paraid': 0, 'cited_id': '12034772', 'relevance_score': 1, 'title': 'A requirement for cytoplasmic dynein and dynactin in intermediate filament network assembly and organization', 'publication_year': 2002, 'cited_by_count': 154}\n"
     ]
    }
   ],
   "source": [
    "for record in records[:2]:\n",
    "    print(dict(record))"
   ]
  },
  {
   "cell_type": "code",
   "execution_count": null,
   "id": "412de101-6df1-40eb-8043-fa72ba313fa2",
   "metadata": {},
   "outputs": [],
   "source": [
    "new_keys = {\n",
    "    \"pmid\": \"pmid\",\n",
    "    \"sentence\": \"new_key2\",\n",
    "    # No mapping for key3\n",
    "}\n",
    "renamed_dict = {new_keys.get(key, key): value for key, value in original_dict.items()}"
   ]
  }
 ],
 "metadata": {
  "kernelspec": {
   "display_name": "Python 3 (ipykernel)",
   "language": "python",
   "name": "python3"
  },
  "language_info": {
   "codemirror_mode": {
    "name": "ipython",
    "version": 3
   },
   "file_extension": ".py",
   "mimetype": "text/x-python",
   "name": "python",
   "nbconvert_exporter": "python",
   "pygments_lexer": "ipython3",
   "version": "3.9.6"
  }
 },
 "nbformat": 4,
 "nbformat_minor": 5
}