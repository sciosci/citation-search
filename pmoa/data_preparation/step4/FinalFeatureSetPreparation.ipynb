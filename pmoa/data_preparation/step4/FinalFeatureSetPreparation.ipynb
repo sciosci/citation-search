{
 "cells": [
  {
   "cell_type": "code",
   "execution_count": 1,
   "id": "32699525-6ebf-4f8a-9689-f225eeeb7d82",
   "metadata": {
    "pycharm": {
     "name": "#%%\n"
    }
   },
   "outputs": [
    {
     "name": "stderr",
     "output_type": "stream",
     "text": [
      "/Users/shubhamsati/PycharmProjects/CitationSearch/venv/lib/python3.9/site-packages/urllib3/__init__.py:34: NotOpenSSLWarning: urllib3 v2 only supports OpenSSL 1.1.1+, currently the 'ssl' module is compiled with 'LibreSSL 2.8.3'. See: https://github.com/urllib3/urllib3/issues/3020\n",
      "  warnings.warn(\n"
     ]
    },
    {
     "name": "stdout",
     "output_type": "stream",
     "text": [
      "0.4045591652393341\n"
     ]
    }
   ],
   "source": [
    "# Sample code to test sentence transformer for cosine similiarity\n",
    "from sentence_transformers import SentenceTransformer, util\n",
    "\n",
    "sentences = [\"This is an example sentence\", \"Each sentence is converted\"]\n",
    "\n",
    "model = SentenceTransformer('sentence-transformers/all-MiniLM-L6-v2')\n",
    "embeddings = model.encode(sentences)\n",
    "cosine_similarity = util.cos_sim(embeddings[0], embeddings[1])\n",
    "print(cosine_similarity.item())"
   ]
  },
  {
   "cell_type": "code",
   "execution_count": 2,
   "id": "048206e9-5fbf-442c-944b-d7d16cf9b9ea",
   "metadata": {
    "pycharm": {
     "name": "#%%\n"
    }
   },
   "outputs": [],
   "source": [
    "# Function to calculate cosine similarity between\n",
    "from sentence_transformers import SentenceTransformer, util\n",
    "def cosine_similarity(feature1, feature2):\n",
    "    model = SentenceTransformer('sentence-transformers/all-MiniLM-L6-v2')\n",
    "    feature1_embedding = model.encode(feature1)\n",
    "    feature2_embedding = model.encode(feature2)\n",
    "    cosine_similarity = util.cos_sim(feature1_embedding, feature2_embedding)\n",
    "    return cosine_similarity.item()"
   ]
  },
  {
   "cell_type": "code",
   "execution_count": 3,
   "id": "d327354c-05fb-44c4-9d57-1cdec4fd57ac",
   "metadata": {
    "pycharm": {
     "name": "#%%\n"
    }
   },
   "outputs": [
    {
     "data": {
      "text/plain": [
       "\"\\ncosine_pairs = [\\n    ('q_title','c_title'),\\n    # ('q_title','c_abstract'),\\n    # ('q_abstract','c_title'),\\n    # ('q_abstract','c_abstract'),\\n    ('q_sentence','c_title'),\\n    # ('q_sentence','c_abstact')\\n]\\nyear_difference = q_year-c_year\\nlen_c_title = len(c_title)\\nlen_c_abstract = len(c_abstract)\\nlog_c_in_citations = np.log2(c_in_citations)\\n\""
      ]
     },
     "execution_count": 3,
     "metadata": {},
     "output_type": "execute_result"
    }
   ],
   "source": [
    "# Features list\n",
    "'''\n",
    "cosine_pairs = [\n",
    "    ('q_title','c_title'),\n",
    "    # ('q_title','c_abstract'),\n",
    "    # ('q_abstract','c_title'),\n",
    "    # ('q_abstract','c_abstract'),\n",
    "    ('q_sentence','c_title'),\n",
    "    # ('q_sentence','c_abstact')\n",
    "]\n",
    "year_difference = q_year-c_year\n",
    "len_c_title = len(c_title)\n",
    "len_c_abstract = len(c_abstract)\n",
    "log_c_in_citations = np.log2(c_in_citations)\n",
    "'''"
   ]
  },
  {
   "cell_type": "code",
   "execution_count": 4,
   "id": "db146d3c",
   "metadata": {
    "collapsed": false,
    "jupyter": {
     "outputs_hidden": false
    },
    "pycharm": {
     "name": "#%%\n"
    }
   },
   "outputs": [
    {
     "name": "stdout",
     "output_type": "stream",
     "text": [
      "Time taken to fetch records with metadata: 0.9339094579999987 seconds\n"
     ]
    }
   ],
   "source": [
    "from sqlalchemy import create_engine, MetaData, Table, Column, String, Integer, insert\n",
    "import time\n",
    "import psycopg2\n",
    "from psycopg2.extras import DictCursor\n",
    "\n",
    "conn_params = {\n",
    "    \"host\": \"10.224.68.29\",\n",
    "    \"port\": \"5432\",\n",
    "    \"database\": \"pubmed\",\n",
    "    \"user\": \"admin\",\n",
    "    \"password\": \"admin\"\n",
    "}\n",
    "\n",
    "engine = create_engine('postgresql://', connect_args=conn_params)\n",
    "\n",
    "query = '''\n",
    "        SELECT rs.pmid as pmid, rs.sentence as q_sentence, rs.cited_id as cited_id, rs.relevance_score as relevance_score,\n",
    "               m.title as q_title,cited.title as c_title,m.publication_year as q_year,cited.publication_year as c_year,\n",
    "               cited.cited_by_count as c_in_citations\n",
    "        FROM relevance_store_new as rs\n",
    "        LEFT JOIN metadata as m ON m.pmid = rs.pmid\n",
    "        LEFT JOIN metadata as cited ON cited.pmid = rs.cited_id\n",
    "        WHERE rs.pmid IN (select DISTINCT pmid from metadata)\n",
    "          AND rs.cited_id IN (select DISTINCT pmid from metadata);\n",
    "        '''\n",
    "start = time.perf_counter()\n",
    "with psycopg2.connect(**conn_params) as conn:\n",
    "    with conn.cursor(cursor_factory=DictCursor) as cursor:\n",
    "        cursor.execute(query)\n",
    "        records = cursor.fetchall()\n",
    "end = time.perf_counter()\n",
    "print(f\"Time taken to fetch records with metadata: {end-start} seconds\")"
   ]
  },
  {
   "cell_type": "code",
   "execution_count": 5,
   "id": "df8dbb24",
   "metadata": {
    "collapsed": false,
    "jupyter": {
     "outputs_hidden": false
    },
    "pycharm": {
     "name": "#%%\n"
    }
   },
   "outputs": [
    {
     "name": "stdout",
     "output_type": "stream",
     "text": [
      "Total groups: 25\n"
     ]
    }
   ],
   "source": [
    "from collections import defaultdict\n",
    "grouped_records = defaultdict(list)\n",
    "for record in records:\n",
    "    grouped_records[record['pmid']].append(record)\n",
    "print(f\"Total groups: {len(grouped_records)}\")"
   ]
  },
  {
   "cell_type": "code",
   "execution_count": 6,
   "id": "3aa6cec1",
   "metadata": {
    "collapsed": false,
    "jupyter": {
     "outputs_hidden": false
    },
    "pycharm": {
     "name": "#%%\n"
    }
   },
   "outputs": [
    {
     "name": "stderr",
     "output_type": "stream",
     "text": [
      "/var/folders/3m/860dncss64lbz0yf839zmg640000gn/T/ipykernel_79225/2177996526.py:25: RuntimeWarning: divide by zero encountered in log2\n",
      "  embedding_arr.append(np.log2(record.get('c_in_citations')))\n"
     ]
    },
    {
     "name": "stdout",
     "output_type": "stream",
     "text": [
      "Time taken to create embeddings for 25 groups: 291.39372050000003 seconds\n"
     ]
    }
   ],
   "source": [
    "import numpy as np\n",
    "embedded_groups = defaultdict(list)\n",
    "cosine_pairs = [\n",
    "    ('q_title','c_title'),\n",
    "    ('q_sentence','c_title')\n",
    "]\n",
    "'''\n",
    "year_difference = q_year-c_year\n",
    "len_c_title = len(c_title)\n",
    "len_c_abstract = len(c_abstract)\n",
    "log_c_in_citations = np.log2(c_in_citations)\n",
    "'''\n",
    "start = time.perf_counter()\n",
    "for k,v in grouped_records.items():\n",
    "    for record in v:\n",
    "        embedding_arr = []\n",
    "        for a,b in cosine_pairs:\n",
    "            if not record.get(a):\n",
    "                record[a]=''\n",
    "            if not record.get(b):\n",
    "                record[b]=''\n",
    "            embedding_arr.append(cosine_similarity(record.get(a,''),record.get(b,'')))\n",
    "        embedding_arr.append(record.get('q_year')-record.get('c_year'))\n",
    "        embedding_arr.append(len(record.get('c_title','')))\n",
    "        embedding_arr.append(np.log2(record.get('c_in_citations')))\n",
    "        embedding_arr.append(record.get('relevance_score'))\n",
    "        embedded_groups[k].append(embedding_arr)\n",
    "end = time.perf_counter()\n",
    "print(f\"Time taken to create embeddings for {len(embedded_groups)} groups: {end-start} seconds\")"
   ]
  },
  {
   "cell_type": "code",
   "execution_count": 7,
   "id": "0ed45af4",
   "metadata": {
    "collapsed": false,
    "jupyter": {
     "outputs_hidden": false
    },
    "pycharm": {
     "name": "#%%\n"
    }
   },
   "outputs": [
    {
     "name": "stdout",
     "output_type": "stream",
     "text": [
      "18811945\n",
      "20811592\n",
      "21608150\n",
      "21904682\n",
      "22110950\n",
      "22474440\n",
      "22625433\n",
      "22778732\n",
      "23497105\n",
      "24131735\n",
      "19664212\n",
      "22747670\n",
      "23316194\n",
      "23797686\n",
      "24989242\n",
      "19930637\n",
      "22719179\n",
      "21044324\n",
      "24086524\n",
      "24636523\n",
      "21457543\n",
      "24966823\n",
      "21762506\n",
      "22909256\n",
      "23229565\n"
     ]
    }
   ],
   "source": [
    "for k,v in embedded_groups.items():\n",
    "    print(k)"
   ]
  },
  {
   "cell_type": "code",
   "execution_count": 8,
   "id": "b8565d87",
   "metadata": {
    "collapsed": false,
    "jupyter": {
     "outputs_hidden": false
    },
    "pycharm": {
     "name": "#%%\n"
    }
   },
   "outputs": [
    {
     "data": {
      "text/plain": [
       "[[0.6058160066604614, 0.7491168975830078, 13, 84, 6.087462841250339, 3],\n",
       " [-0.009927734732627869, -0.017229247838258743, 6, 0, 6.599912842187128, 3],\n",
       " [0.4175010323524475, 0.40701478719711304, 4, 81, 8.108524456778168, 3],\n",
       " [0.35630926489830017, 0.25373733043670654, 6, 108, 7.266786540694901, 1],\n",
       " [0.5159871578216553, 0.1362968385219574, 10, 111, 8.312882955284355, 1]]"
      ]
     },
     "execution_count": 8,
     "metadata": {},
     "output_type": "execute_result"
    }
   ],
   "source": [
    "embedded_groups['18811945'][0:5]"
   ]
  },
  {
   "cell_type": "code",
   "execution_count": null,
   "outputs": [],
   "source": [
    "# Divide into test and train groups\n",
    "test_size = 0.2\n",
    "test_groups_size = int(len(embedded_groups)*test_size)\n",
    "train_groups_size = len(embedded_groups)-test_groups_size\n",
    "train_groups = list(embedded_groups.keys())[:train_groups_size]\n",
    "test_groups = list(embedded_groups.keys())[train_groups_size:]"
   ],
   "metadata": {
    "collapsed": false,
    "pycharm": {
     "name": "#%%\n"
    }
   }
  },
  {
   "cell_type": "code",
   "execution_count": null,
   "outputs": [],
   "source": [
    "from collections import Counter\n",
    "test_data =[]\n",
    "for test_group in test_groups:\n",
    "    for group in embedded_groups[test_group]:\n",
    "        test_data.append(group)\n",
    "X_test = [data[:-1] for data in test_data]\n",
    "y_test = [data[-1] for data in test_data]\n",
    "Counter(y_test).items()"
   ],
   "metadata": {
    "collapsed": false,
    "pycharm": {
     "name": "#%%\n"
    }
   }
  },
  {
   "cell_type": "code",
   "execution_count": null,
   "outputs": [],
   "source": [
    "train_data =[]\n",
    "for train_group in train_groups:\n",
    "    for group in embedded_groups[train_group]:\n",
    "        train_data.append(group)\n",
    "X_train = [data[:-1] for data in train_data]\n",
    "y_train = [data[-1] for data in train_data]\n",
    "Counter(y_train).items()"
   ],
   "metadata": {
    "collapsed": false,
    "pycharm": {
     "name": "#%%\n"
    }
   }
  },
  {
   "cell_type": "code",
   "execution_count": null,
   "outputs": [],
   "source": [
    "max_relevance = np.max(y_train)\n",
    "y_train /= max_relevance\n",
    "y_test /= max_relevance"
   ],
   "metadata": {
    "collapsed": false,
    "pycharm": {
     "name": "#%%\n"
    }
   }
  },
  {
   "cell_type": "code",
   "execution_count": null,
   "outputs": [],
   "source": [
    "from catboost import CatBoostRanker, Pool, MetricVisualizer\n",
    "train = Pool(\n",
    "    data=X_train,\n",
    "    label=y_train,\n",
    "    # group_id=train_groups\n",
    ")\n",
    "\n",
    "test = Pool(\n",
    "    data=X_test,\n",
    "    label=y_test,\n",
    "    # group_id=test_groups\n",
    ")"
   ],
   "metadata": {
    "collapsed": false,
    "pycharm": {
     "name": "#%%\n"
    }
   }
  },
  {
   "cell_type": "code",
   "execution_count": null,
   "outputs": [],
   "source": [
    "default_parameters = {\n",
    "    'iterations': 2000,\n",
    "    'custom_metric': ['NDCG', 'PFound', 'AverageGain:top=10'],\n",
    "    'verbose': False,\n",
    "    'random_seed': 0,\n",
    "}\n",
    "\n",
    "parameters = {}"
   ],
   "metadata": {
    "collapsed": false,
    "pycharm": {
     "name": "#%%\n"
    }
   }
  },
  {
   "cell_type": "code",
   "execution_count": null,
   "outputs": [],
   "source": [
    "from copy import deepcopy\n",
    "def fit_model(loss_function, additional_params=None, train_pool=train, test_pool=test):\n",
    "    parameters = deepcopy(default_parameters)\n",
    "    parameters['loss_function'] = loss_function\n",
    "    parameters['train_dir'] = loss_function\n",
    "\n",
    "    if additional_params is not None:\n",
    "        parameters.update(additional_params)\n",
    "\n",
    "    model = CatBoostRanker(**parameters)\n",
    "    model.fit(train_pool, eval_set=test_pool, plot=True)\n",
    "\n",
    "    return model"
   ],
   "metadata": {
    "collapsed": false,
    "pycharm": {
     "name": "#%%\n"
    }
   }
  },
  {
   "cell_type": "code",
   "execution_count": null,
   "outputs": [],
   "source": [
    "model = fit_model('RMSE', {'custom_metric': ['PrecisionAt:top=10', 'RecallAt:top=10', 'MAP:top=10']})"
   ],
   "metadata": {
    "collapsed": false,
    "pycharm": {
     "name": "#%%\n"
    }
   }
  },
  {
   "cell_type": "code",
   "execution_count": null,
   "outputs": [],
   "source": [],
   "metadata": {
    "collapsed": false,
    "pycharm": {
     "name": "#%%\n"
    }
   }
  },
  {
   "cell_type": "code",
   "execution_count": null,
   "outputs": [],
   "source": [],
   "metadata": {
    "collapsed": false,
    "pycharm": {
     "name": "#%%\n"
    }
   }
  },
  {
   "cell_type": "code",
   "execution_count": 26,
   "id": "c5c94660-2563-4c99-b91c-e9d7c24ef0ca",
   "metadata": {},
   "outputs": [],
   "source": [
    "# Divide into test and train groups\n",
    "test_size = 0.2\n",
    "test_groups_size = int(len(embedded_groups)*test_size)\n",
    "train_groups_size = len(embedded_groups)-test_groups_size\n",
    "train_groups = list(embedded_groups.keys())[:train_groups_size]\n",
    "test_groups = list(embedded_groups.keys())[train_groups_size:]"
   ]
  },
  {
   "cell_type": "code",
   "execution_count": 43,
   "id": "776a180b-9249-4c30-bc8f-adb42a765d3c",
   "metadata": {},
   "outputs": [
    {
     "data": {
      "text/plain": [
       "dict_items([(0, 7)])"
      ]
     },
     "execution_count": 43,
     "metadata": {},
     "output_type": "execute_result"
    }
   ],
   "source": [
    "from collections import Counter\n",
    "test_data =[]\n",
    "for test_group in test_groups:\n",
    "    for group in embedded_groups[test_group]:\n",
    "        test_data.append(group)\n",
    "X_test = [data[:-1] for data in test_data]\n",
    "y_test = [data[-1] for data in test_data]\n",
    "Counter(y_test).items()"
   ]
  },
  {
   "cell_type": "code",
   "execution_count": 44,
   "id": "22aa3995-10d9-43b8-983b-e27b881def31",
   "metadata": {},
   "outputs": [
    {
     "data": {
      "text/plain": [
       "dict_items([(3, 28), (1, 587), (2, 107), (0, 18)])"
      ]
     },
     "execution_count": 44,
     "metadata": {},
     "output_type": "execute_result"
    }
   ],
   "source": [
    "train_data =[]\n",
    "for train_group in train_groups:\n",
    "    for group in embedded_groups[train_group]:\n",
    "        train_data.append(group)\n",
    "X_train = [data[:-1] for data in train_data]\n",
    "y_train = [data[-1] for data in train_data]\n",
    "Counter(y_train).items()"
   ]
  },
  {
   "cell_type": "code",
   "execution_count": 45,
   "id": "0fa7efe1-45d7-410c-a749-aa9d8452a09d",
   "metadata": {},
   "outputs": [],
   "source": [
    "max_relevance = np.max(y_train)\n",
    "y_train /= max_relevance\n",
    "y_test /= max_relevance"
   ]
  },
  {
   "cell_type": "code",
   "execution_count": 48,
   "id": "f793b8bb-f8b7-4270-8aca-87a6549b7c2d",
   "metadata": {},
   "outputs": [],
   "source": [
    "from catboost import CatBoostRanker, Pool, MetricVisualizer\n",
    "train = Pool(\n",
    "    data=X_train,\n",
    "    label=y_train,\n",
    "    # group_id=train_groups\n",
    ")\n",
    "\n",
    "test = Pool(\n",
    "    data=X_test,\n",
    "    label=y_test,\n",
    "    # group_id=test_groups\n",
    ")"
   ]
  },
  {
   "cell_type": "code",
   "execution_count": 49,
   "id": "cf809c37-af58-4fb9-a5f2-093218ec198f",
   "metadata": {},
   "outputs": [],
   "source": [
    "default_parameters = {\n",
    "    'iterations': 2000,\n",
    "    'custom_metric': ['NDCG', 'PFound', 'AverageGain:top=10'],\n",
    "    'verbose': False,\n",
    "    'random_seed': 0,\n",
    "}\n",
    "\n",
    "parameters = {}"
   ]
  },
  {
   "cell_type": "code",
   "execution_count": 52,
   "id": "f3f0cc1e-26d0-48b5-a0b4-61c449a8ca47",
   "metadata": {},
   "outputs": [],
   "source": [
    "from copy import deepcopy\n",
    "def fit_model(loss_function, additional_params=None, train_pool=train, test_pool=test):\n",
    "    parameters = deepcopy(default_parameters)\n",
    "    parameters['loss_function'] = loss_function\n",
    "    parameters['train_dir'] = loss_function\n",
    "\n",
    "    if additional_params is not None:\n",
    "        parameters.update(additional_params)\n",
    "\n",
    "    model = CatBoostRanker(**parameters)\n",
    "    model.fit(train_pool, eval_set=test_pool, plot=True)\n",
    "\n",
    "    return model"
   ]
  },
  {
   "cell_type": "code",
   "execution_count": 53,
   "id": "a98b8c7e-f967-47bb-a599-0f830e3c5f3a",
   "metadata": {},
   "outputs": [
    {
     "name": "stderr",
     "output_type": "stream",
     "text": [
      "/Users/shubhamsati/PycharmProjects/CitationSearch/venv/lib/python3.9/site-packages/catboost/core.py:6219: RuntimeWarning: Regression loss ('RMSE') ignores an important ranking parameter 'group_id'\n",
      "  warnings.warn(\"Regression loss ('{}') ignores an important ranking parameter 'group_id'\".format(loss_function), RuntimeWarning)\n"
     ]
    },
    {
     "data": {
      "application/vnd.jupyter.widget-view+json": {
       "model_id": "2cfde54c6acf415a89c4ee248a12bc82",
       "version_major": 2,
       "version_minor": 0
      },
      "text/plain": [
       "MetricVisualizer(layout=Layout(align_self='stretch', height='500px'))"
      ]
     },
     "metadata": {},
     "output_type": "display_data"
    },
    {
     "ename": "CatBoostError",
     "evalue": "/Users/zomb-ml-platform-msk/go-agent-21.2.0/pipelines/BuildMaster/catboost.git/catboost/private/libs/target/data_providers.cpp:277: Groupwise loss/metrics require nontrivial groups",
     "output_type": "error",
     "traceback": [
      "\u001B[0;31m---------------------------------------------------------------------------\u001B[0m",
      "\u001B[0;31mCatBoostError\u001B[0m                             Traceback (most recent call last)",
      "Cell \u001B[0;32mIn[53], line 1\u001B[0m\n\u001B[0;32m----> 1\u001B[0m model \u001B[38;5;241m=\u001B[39m \u001B[43mfit_model\u001B[49m\u001B[43m(\u001B[49m\u001B[38;5;124;43m'\u001B[39;49m\u001B[38;5;124;43mRMSE\u001B[39;49m\u001B[38;5;124;43m'\u001B[39;49m\u001B[43m,\u001B[49m\u001B[43m \u001B[49m\u001B[43m{\u001B[49m\u001B[38;5;124;43m'\u001B[39;49m\u001B[38;5;124;43mcustom_metric\u001B[39;49m\u001B[38;5;124;43m'\u001B[39;49m\u001B[43m:\u001B[49m\u001B[43m \u001B[49m\u001B[43m[\u001B[49m\u001B[38;5;124;43m'\u001B[39;49m\u001B[38;5;124;43mPrecisionAt:top=10\u001B[39;49m\u001B[38;5;124;43m'\u001B[39;49m\u001B[43m,\u001B[49m\u001B[43m \u001B[49m\u001B[38;5;124;43m'\u001B[39;49m\u001B[38;5;124;43mRecallAt:top=10\u001B[39;49m\u001B[38;5;124;43m'\u001B[39;49m\u001B[43m,\u001B[49m\u001B[43m \u001B[49m\u001B[38;5;124;43m'\u001B[39;49m\u001B[38;5;124;43mMAP:top=10\u001B[39;49m\u001B[38;5;124;43m'\u001B[39;49m\u001B[43m]\u001B[49m\u001B[43m}\u001B[49m\u001B[43m)\u001B[49m\n",
      "Cell \u001B[0;32mIn[52], line 11\u001B[0m, in \u001B[0;36mfit_model\u001B[0;34m(loss_function, additional_params, train_pool, test_pool)\u001B[0m\n\u001B[1;32m      8\u001B[0m     parameters\u001B[38;5;241m.\u001B[39mupdate(additional_params)\n\u001B[1;32m     10\u001B[0m model \u001B[38;5;241m=\u001B[39m CatBoostRanker(\u001B[38;5;241m*\u001B[39m\u001B[38;5;241m*\u001B[39mparameters)\n\u001B[0;32m---> 11\u001B[0m \u001B[43mmodel\u001B[49m\u001B[38;5;241;43m.\u001B[39;49m\u001B[43mfit\u001B[49m\u001B[43m(\u001B[49m\u001B[43mtrain_pool\u001B[49m\u001B[43m,\u001B[49m\u001B[43m \u001B[49m\u001B[43meval_set\u001B[49m\u001B[38;5;241;43m=\u001B[39;49m\u001B[43mtest_pool\u001B[49m\u001B[43m,\u001B[49m\u001B[43m \u001B[49m\u001B[43mplot\u001B[49m\u001B[38;5;241;43m=\u001B[39;49m\u001B[38;5;28;43;01mTrue\u001B[39;49;00m\u001B[43m)\u001B[49m\n\u001B[1;32m     13\u001B[0m \u001B[38;5;28;01mreturn\u001B[39;00m model\n",
      "File \u001B[0;32m~/PycharmProjects/CitationSearch/venv/lib/python3.9/site-packages/catboost/core.py:6099\u001B[0m, in \u001B[0;36mCatBoostRanker.fit\u001B[0;34m(self, X, y, group_id, cat_features, text_features, embedding_features, pairs, sample_weight, group_weight, subgroup_id, pairs_weight, baseline, use_best_model, eval_set, verbose, logging_level, plot, plot_file, column_description, verbose_eval, metric_period, silent, early_stopping_rounds, save_snapshot, snapshot_file, snapshot_interval, init_model, callbacks, log_cout, log_cerr)\u001B[0m\n\u001B[1;32m   6096\u001B[0m \u001B[38;5;28;01mif\u001B[39;00m \u001B[38;5;124m'\u001B[39m\u001B[38;5;124mloss_function\u001B[39m\u001B[38;5;124m'\u001B[39m \u001B[38;5;129;01min\u001B[39;00m params:\n\u001B[1;32m   6097\u001B[0m     CatBoostRanker\u001B[38;5;241m.\u001B[39m_check_is_compatible_loss(params[\u001B[38;5;124m'\u001B[39m\u001B[38;5;124mloss_function\u001B[39m\u001B[38;5;124m'\u001B[39m])\n\u001B[0;32m-> 6099\u001B[0m \u001B[38;5;28;43mself\u001B[39;49m\u001B[38;5;241;43m.\u001B[39;49m\u001B[43m_fit\u001B[49m\u001B[43m(\u001B[49m\u001B[43mX\u001B[49m\u001B[43m,\u001B[49m\u001B[43m \u001B[49m\u001B[43my\u001B[49m\u001B[43m,\u001B[49m\u001B[43m \u001B[49m\u001B[43mcat_features\u001B[49m\u001B[43m,\u001B[49m\u001B[43m \u001B[49m\u001B[43mtext_features\u001B[49m\u001B[43m,\u001B[49m\u001B[43m \u001B[49m\u001B[43membedding_features\u001B[49m\u001B[43m,\u001B[49m\u001B[43m \u001B[49m\u001B[43mpairs\u001B[49m\u001B[43m,\u001B[49m\n\u001B[1;32m   6100\u001B[0m \u001B[43m          \u001B[49m\u001B[43msample_weight\u001B[49m\u001B[43m,\u001B[49m\u001B[43m \u001B[49m\u001B[43mgroup_id\u001B[49m\u001B[43m,\u001B[49m\u001B[43m \u001B[49m\u001B[43mgroup_weight\u001B[49m\u001B[43m,\u001B[49m\u001B[43m \u001B[49m\u001B[43msubgroup_id\u001B[49m\u001B[43m,\u001B[49m\u001B[43m \u001B[49m\u001B[43mpairs_weight\u001B[49m\u001B[43m,\u001B[49m\u001B[43m \u001B[49m\u001B[43mbaseline\u001B[49m\u001B[43m,\u001B[49m\u001B[43m \u001B[49m\u001B[43muse_best_model\u001B[49m\u001B[43m,\u001B[49m\n\u001B[1;32m   6101\u001B[0m \u001B[43m          \u001B[49m\u001B[43meval_set\u001B[49m\u001B[43m,\u001B[49m\u001B[43m \u001B[49m\u001B[43mverbose\u001B[49m\u001B[43m,\u001B[49m\u001B[43m \u001B[49m\u001B[43mlogging_level\u001B[49m\u001B[43m,\u001B[49m\u001B[43m \u001B[49m\u001B[43mplot\u001B[49m\u001B[43m,\u001B[49m\u001B[43m \u001B[49m\u001B[43mplot_file\u001B[49m\u001B[43m,\u001B[49m\u001B[43m \u001B[49m\u001B[43mcolumn_description\u001B[49m\u001B[43m,\u001B[49m\u001B[43m \u001B[49m\u001B[43mverbose_eval\u001B[49m\u001B[43m,\u001B[49m\u001B[43m \u001B[49m\u001B[43mmetric_period\u001B[49m\u001B[43m,\u001B[49m\n\u001B[1;32m   6102\u001B[0m \u001B[43m          \u001B[49m\u001B[43msilent\u001B[49m\u001B[43m,\u001B[49m\u001B[43m \u001B[49m\u001B[43mearly_stopping_rounds\u001B[49m\u001B[43m,\u001B[49m\u001B[43m \u001B[49m\u001B[43msave_snapshot\u001B[49m\u001B[43m,\u001B[49m\u001B[43m \u001B[49m\u001B[43msnapshot_file\u001B[49m\u001B[43m,\u001B[49m\u001B[43m \u001B[49m\u001B[43msnapshot_interval\u001B[49m\u001B[43m,\u001B[49m\u001B[43m \u001B[49m\u001B[43minit_model\u001B[49m\u001B[43m,\u001B[49m\u001B[43m \u001B[49m\u001B[43mcallbacks\u001B[49m\u001B[43m,\u001B[49m\u001B[43m \u001B[49m\u001B[43mlog_cout\u001B[49m\u001B[43m,\u001B[49m\u001B[43m \u001B[49m\u001B[43mlog_cerr\u001B[49m\u001B[43m)\u001B[49m\n\u001B[1;32m   6103\u001B[0m \u001B[38;5;28;01mreturn\u001B[39;00m \u001B[38;5;28mself\u001B[39m\n",
      "File \u001B[0;32m~/PycharmProjects/CitationSearch/venv/lib/python3.9/site-packages/catboost/core.py:2319\u001B[0m, in \u001B[0;36mCatBoost._fit\u001B[0;34m(self, X, y, cat_features, text_features, embedding_features, pairs, sample_weight, group_id, group_weight, subgroup_id, pairs_weight, baseline, use_best_model, eval_set, verbose, logging_level, plot, plot_file, column_description, verbose_eval, metric_period, silent, early_stopping_rounds, save_snapshot, snapshot_file, snapshot_interval, init_model, callbacks, log_cout, log_cerr)\u001B[0m\n\u001B[1;32m   2315\u001B[0m allow_clear_pool \u001B[38;5;241m=\u001B[39m train_params[\u001B[38;5;124m\"\u001B[39m\u001B[38;5;124mallow_clear_pool\u001B[39m\u001B[38;5;124m\"\u001B[39m]\n\u001B[1;32m   2317\u001B[0m \u001B[38;5;28;01mwith\u001B[39;00m log_fixup(log_cout, log_cerr), \\\n\u001B[1;32m   2318\u001B[0m     plot_wrapper(plot, plot_file, \u001B[38;5;124m'\u001B[39m\u001B[38;5;124mTraining plots\u001B[39m\u001B[38;5;124m'\u001B[39m, [_get_train_dir(\u001B[38;5;28mself\u001B[39m\u001B[38;5;241m.\u001B[39mget_params())]):\n\u001B[0;32m-> 2319\u001B[0m     \u001B[38;5;28;43mself\u001B[39;49m\u001B[38;5;241;43m.\u001B[39;49m\u001B[43m_train\u001B[49m\u001B[43m(\u001B[49m\n\u001B[1;32m   2320\u001B[0m \u001B[43m        \u001B[49m\u001B[43mtrain_pool\u001B[49m\u001B[43m,\u001B[49m\n\u001B[1;32m   2321\u001B[0m \u001B[43m        \u001B[49m\u001B[43mtrain_params\u001B[49m\u001B[43m[\u001B[49m\u001B[38;5;124;43m\"\u001B[39;49m\u001B[38;5;124;43meval_sets\u001B[39;49m\u001B[38;5;124;43m\"\u001B[39;49m\u001B[43m]\u001B[49m\u001B[43m,\u001B[49m\n\u001B[1;32m   2322\u001B[0m \u001B[43m        \u001B[49m\u001B[43mparams\u001B[49m\u001B[43m,\u001B[49m\n\u001B[1;32m   2323\u001B[0m \u001B[43m        \u001B[49m\u001B[43mallow_clear_pool\u001B[49m\u001B[43m,\u001B[49m\n\u001B[1;32m   2324\u001B[0m \u001B[43m        \u001B[49m\u001B[43mtrain_params\u001B[49m\u001B[43m[\u001B[49m\u001B[38;5;124;43m\"\u001B[39;49m\u001B[38;5;124;43minit_model\u001B[39;49m\u001B[38;5;124;43m\"\u001B[39;49m\u001B[43m]\u001B[49m\n\u001B[1;32m   2325\u001B[0m \u001B[43m    \u001B[49m\u001B[43m)\u001B[49m\n\u001B[1;32m   2327\u001B[0m \u001B[38;5;66;03m# Have property feature_importance possibly set\u001B[39;00m\n\u001B[1;32m   2328\u001B[0m loss \u001B[38;5;241m=\u001B[39m \u001B[38;5;28mself\u001B[39m\u001B[38;5;241m.\u001B[39m_object\u001B[38;5;241m.\u001B[39m_get_loss_function_name()\n",
      "File \u001B[0;32m~/PycharmProjects/CitationSearch/venv/lib/python3.9/site-packages/catboost/core.py:1723\u001B[0m, in \u001B[0;36m_CatBoostBase._train\u001B[0;34m(self, train_pool, test_pool, params, allow_clear_pool, init_model)\u001B[0m\n\u001B[1;32m   1722\u001B[0m \u001B[38;5;28;01mdef\u001B[39;00m \u001B[38;5;21m_train\u001B[39m(\u001B[38;5;28mself\u001B[39m, train_pool, test_pool, params, allow_clear_pool, init_model):\n\u001B[0;32m-> 1723\u001B[0m     \u001B[38;5;28;43mself\u001B[39;49m\u001B[38;5;241;43m.\u001B[39;49m\u001B[43m_object\u001B[49m\u001B[38;5;241;43m.\u001B[39;49m\u001B[43m_train\u001B[49m\u001B[43m(\u001B[49m\u001B[43mtrain_pool\u001B[49m\u001B[43m,\u001B[49m\u001B[43m \u001B[49m\u001B[43mtest_pool\u001B[49m\u001B[43m,\u001B[49m\u001B[43m \u001B[49m\u001B[43mparams\u001B[49m\u001B[43m,\u001B[49m\u001B[43m \u001B[49m\u001B[43mallow_clear_pool\u001B[49m\u001B[43m,\u001B[49m\u001B[43m \u001B[49m\u001B[43minit_model\u001B[49m\u001B[38;5;241;43m.\u001B[39;49m\u001B[43m_object\u001B[49m\u001B[43m \u001B[49m\u001B[38;5;28;43;01mif\u001B[39;49;00m\u001B[43m \u001B[49m\u001B[43minit_model\u001B[49m\u001B[43m \u001B[49m\u001B[38;5;28;43;01melse\u001B[39;49;00m\u001B[43m \u001B[49m\u001B[38;5;28;43;01mNone\u001B[39;49;00m\u001B[43m)\u001B[49m\n\u001B[1;32m   1724\u001B[0m     \u001B[38;5;28mself\u001B[39m\u001B[38;5;241m.\u001B[39m_set_trained_model_attributes()\n",
      "File \u001B[0;32m_catboost.pyx:4645\u001B[0m, in \u001B[0;36m_catboost._CatBoost._train\u001B[0;34m()\u001B[0m\n",
      "File \u001B[0;32m_catboost.pyx:4694\u001B[0m, in \u001B[0;36m_catboost._CatBoost._train\u001B[0;34m()\u001B[0m\n",
      "\u001B[0;31mCatBoostError\u001B[0m: /Users/zomb-ml-platform-msk/go-agent-21.2.0/pipelines/BuildMaster/catboost.git/catboost/private/libs/target/data_providers.cpp:277: Groupwise loss/metrics require nontrivial groups"
     ]
    }
   ],
   "source": [
    "model = fit_model('RMSE', {'custom_metric': ['PrecisionAt:top=10', 'RecallAt:top=10', 'MAP:top=10']})"
   ]
  },
  {
   "cell_type": "code",
   "execution_count": null,
   "id": "d6cc0d25-a63e-4a46-a347-73f70a66ea6f",
   "metadata": {},
   "outputs": [],
   "source": []
  },
  {
   "cell_type": "code",
   "execution_count": null,
   "id": "d9492465-1e48-4be1-b618-6290046ec5d3",
   "metadata": {},
   "outputs": [],
   "source": []
  }
 ],
 "metadata": {
  "kernelspec": {
   "display_name": "Python 3 (ipykernel)",
   "language": "python",
   "name": "python3"
  },
  "language_info": {
   "codemirror_mode": {
    "name": "ipython",
    "version": 3
   },
   "file_extension": ".py",
   "mimetype": "text/x-python",
   "name": "python",
   "nbconvert_exporter": "python",
   "pygments_lexer": "ipython3",
   "version": "3.9.6"
  }
 },
 "nbformat": 4,
 "nbformat_minor": 5
}